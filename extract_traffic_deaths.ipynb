{
 "nbformat": 4,
 "nbformat_minor": 2,
 "metadata": {
  "language_info": {
   "name": "python",
   "codemirror_mode": {
    "name": "ipython",
    "version": 3
   },
   "version": "3.7.4-final"
  },
  "orig_nbformat": 2,
  "file_extension": ".py",
  "mimetype": "text/x-python",
  "name": "python",
  "npconvert_exporter": "python",
  "pygments_lexer": "ipython3",
  "version": 3,
  "kernelspec": {
   "name": "python37464bitbaseconda7bc3910bbe4a4c1e89b80bb43883e8bc",
   "display_name": "Python 3.7.4 64-bit ('base': conda)"
  }
 },
 "cells": [
  {
   "cell_type": "code",
   "execution_count": 1,
   "metadata": {},
   "outputs": [],
   "source": [
    "import pandas as pd"
   ]
  },
  {
   "cell_type": "markdown",
   "metadata": {},
   "source": [
    "## Load data from URL"
   ]
  },
  {
   "cell_type": "code",
   "execution_count": 2,
   "metadata": {},
   "outputs": [
    {
     "data": {
      "text/html": "<div>\n<style scoped>\n    .dataframe tbody tr th:only-of-type {\n        vertical-align: middle;\n    }\n\n    .dataframe tbody tr th {\n        vertical-align: top;\n    }\n\n    .dataframe thead th {\n        text-align: right;\n    }\n</style>\n<table border=\"1\" class=\"dataframe\">\n  <thead>\n    <tr style=\"text-align: right;\">\n      <th></th>\n      <th>Country</th>\n      <th>Continent</th>\n      <th>Road fatalitiesper 100,000inhabitantsper year[5][2]</th>\n      <th>Road fatalitiesper 100,000motor vehicles[5][2]</th>\n      <th>Road fatalitiesper 1 billionvehicle-km[6]</th>\n      <th>Total fatalitieslatest year(adjusted/estimatedfigures by WHO report)[5][2]</th>\n      <th>Year, data source(standard source:The WHO report 2015,[3]data from 2013The WHO report 2018,[2]data from 2016)</th>\n    </tr>\n  </thead>\n  <tbody>\n    <tr>\n      <td>0</td>\n      <td>Afghanistan</td>\n      <td>Asia</td>\n      <td>15.5</td>\n      <td>722.4</td>\n      <td>NaN</td>\n      <td>4734</td>\n      <td>2013</td>\n    </tr>\n    <tr>\n      <td>1</td>\n      <td>Albania</td>\n      <td>Europe</td>\n      <td>13.6</td>\n      <td>107.2</td>\n      <td>NaN</td>\n      <td>399</td>\n      <td>2018</td>\n    </tr>\n    <tr>\n      <td>2</td>\n      <td>Algeria</td>\n      <td>Africa</td>\n      <td>23.8</td>\n      <td>127.8</td>\n      <td>NaN</td>\n      <td>9337</td>\n      <td>2013</td>\n    </tr>\n    <tr>\n      <td>3</td>\n      <td>Andorra</td>\n      <td>Europe</td>\n      <td>7.6</td>\n      <td>7.9</td>\n      <td>NaN</td>\n      <td>6</td>\n      <td>2013</td>\n    </tr>\n    <tr>\n      <td>4</td>\n      <td>Angola</td>\n      <td>Africa</td>\n      <td>26.9</td>\n      <td>992</td>\n      <td>NaN</td>\n      <td>5769</td>\n      <td>2013</td>\n    </tr>\n    <tr>\n      <td>...</td>\n      <td>...</td>\n      <td>...</td>\n      <td>...</td>\n      <td>...</td>\n      <td>...</td>\n      <td>...</td>\n      <td>...</td>\n    </tr>\n    <tr>\n      <td>176</td>\n      <td>Vanuatu</td>\n      <td>Oceania</td>\n      <td>16.6</td>\n      <td>300</td>\n      <td>NaN</td>\n      <td>42</td>\n      <td>2013</td>\n    </tr>\n    <tr>\n      <td>177</td>\n      <td>Vietnam</td>\n      <td>Asia</td>\n      <td>24.5</td>\n      <td>55</td>\n      <td>NaN</td>\n      <td>22419</td>\n      <td>2013</td>\n    </tr>\n    <tr>\n      <td>178</td>\n      <td>Yemen</td>\n      <td>Asia</td>\n      <td>21.5</td>\n      <td>436.6</td>\n      <td>NaN</td>\n      <td>5248</td>\n      <td>2013</td>\n    </tr>\n    <tr>\n      <td>179</td>\n      <td>Zambia</td>\n      <td>Africa</td>\n      <td>24.7</td>\n      <td>670.9</td>\n      <td>NaN</td>\n      <td>3586</td>\n      <td>2013</td>\n    </tr>\n    <tr>\n      <td>180</td>\n      <td>Zimbabwe</td>\n      <td>Africa</td>\n      <td>28.2</td>\n      <td>429.8</td>\n      <td>NaN</td>\n      <td>3985</td>\n      <td>2013</td>\n    </tr>\n  </tbody>\n</table>\n<p>181 rows × 7 columns</p>\n</div>",
      "text/plain": "         Country Continent  \\\n0    Afghanistan      Asia   \n1        Albania    Europe   \n2        Algeria    Africa   \n3        Andorra    Europe   \n4         Angola    Africa   \n..           ...       ...   \n176      Vanuatu   Oceania   \n177      Vietnam      Asia   \n178        Yemen      Asia   \n179       Zambia    Africa   \n180     Zimbabwe    Africa   \n\n    Road fatalitiesper 100,000inhabitantsper year[5][2]  \\\n0                                                 15.5    \n1                                                 13.6    \n2                                                 23.8    \n3                                                  7.6    \n4                                                 26.9    \n..                                                 ...    \n176                                               16.6    \n177                                               24.5    \n178                                               21.5    \n179                                               24.7    \n180                                               28.2    \n\n    Road fatalitiesper 100,000motor vehicles[5][2]  \\\n0                                            722.4   \n1                                            107.2   \n2                                            127.8   \n3                                              7.9   \n4                                              992   \n..                                             ...   \n176                                            300   \n177                                             55   \n178                                          436.6   \n179                                          670.9   \n180                                          429.8   \n\n     Road fatalitiesper 1 billionvehicle-km[6]  \\\n0                                          NaN   \n1                                          NaN   \n2                                          NaN   \n3                                          NaN   \n4                                          NaN   \n..                                         ...   \n176                                        NaN   \n177                                        NaN   \n178                                        NaN   \n179                                        NaN   \n180                                        NaN   \n\n    Total fatalitieslatest year(adjusted/estimatedfigures by WHO report)[5][2]  \\\n0                                                 4734                           \n1                                                  399                           \n2                                                 9337                           \n3                                                    6                           \n4                                                 5769                           \n..                                                 ...                           \n176                                                 42                           \n177                                              22419                           \n178                                               5248                           \n179                                               3586                           \n180                                               3985                           \n\n    Year, data source(standard source:The WHO report 2015,[3]data from 2013The WHO report 2018,[2]data from 2016)  \n0                                                 2013                                                             \n1                                                 2018                                                             \n2                                                 2013                                                             \n3                                                 2013                                                             \n4                                                 2013                                                             \n..                                                 ...                                                             \n176                                               2013                                                             \n177                                               2013                                                             \n178                                               2013                                                             \n179                                               2013                                                             \n180                                               2013                                                             \n\n[181 rows x 7 columns]"
     },
     "execution_count": 2,
     "metadata": {},
     "output_type": "execute_result"
    }
   ],
   "source": [
    "url = \"https://en.wikipedia.org/wiki/List_of_countries_by_traffic-related_death_rate\"\n",
    "\n",
    "traffic_deaths = pd.read_html(url, skiprows=range(1,8))[1]\n",
    "traffic_deaths"
   ]
  },
  {
   "cell_type": "code",
   "execution_count": null,
   "metadata": {},
   "outputs": [],
   "source": []
  }
 ]
}