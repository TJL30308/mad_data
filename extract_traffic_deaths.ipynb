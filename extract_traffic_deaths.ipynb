{
 "nbformat": 4,
 "nbformat_minor": 2,
 "metadata": {
  "language_info": {
   "name": "python",
   "codemirror_mode": {
    "name": "ipython",
    "version": 3
   },
   "version": "3.7.4-final"
  },
  "orig_nbformat": 2,
  "file_extension": ".py",
  "mimetype": "text/x-python",
  "name": "python",
  "npconvert_exporter": "python",
  "pygments_lexer": "ipython3",
  "version": 3,
  "kernelspec": {
   "name": "python37464bitbaseconda7bc3910bbe4a4c1e89b80bb43883e8bc",
   "display_name": "Python 3.7.4 64-bit ('base': conda)"
  }
 },
 "cells": [
  {
   "cell_type": "code",
   "execution_count": 1,
   "metadata": {},
   "outputs": [],
   "source": [
    "import pandas as pd"
   ]
  },
  {
   "cell_type": "markdown",
   "metadata": {},
   "source": [
    "## Load data from URL"
   ]
  },
  {
   "cell_type": "code",
   "execution_count": 21,
   "metadata": {},
   "outputs": [
    {
     "data": {
      "text/html": "<div>\n<style scoped>\n    .dataframe tbody tr th:only-of-type {\n        vertical-align: middle;\n    }\n\n    .dataframe tbody tr th {\n        vertical-align: top;\n    }\n\n    .dataframe thead th {\n        text-align: right;\n    }\n</style>\n<table border=\"1\" class=\"dataframe\">\n  <thead>\n    <tr style=\"text-align: right;\">\n      <th></th>\n      <th>Country</th>\n      <th>Continent</th>\n      <th>Road fatalitiesper 100,000inhabitantsper year[5][2]</th>\n      <th>Road fatalitiesper 100,000motor vehicles[5][2]</th>\n      <th>Road fatalitiesper 1 billionvehicle-km[6]</th>\n      <th>Total fatalitieslatest year(adjusted/estimatedfigures by WHO report)[5][2]</th>\n      <th>Year, data source(standard source:The WHO report 2015,[3]data from 2013The WHO report 2018,[2]data from 2016)</th>\n    </tr>\n  </thead>\n  <tbody>\n    <tr>\n      <td>0</td>\n      <td>Afghanistan</td>\n      <td>Asia</td>\n      <td>15.5</td>\n      <td>722.4</td>\n      <td>NaN</td>\n      <td>4734</td>\n      <td>2013</td>\n    </tr>\n    <tr>\n      <td>1</td>\n      <td>Albania</td>\n      <td>Europe</td>\n      <td>13.6</td>\n      <td>107.2</td>\n      <td>NaN</td>\n      <td>399</td>\n      <td>2018</td>\n    </tr>\n    <tr>\n      <td>2</td>\n      <td>Algeria</td>\n      <td>Africa</td>\n      <td>23.8</td>\n      <td>127.8</td>\n      <td>NaN</td>\n      <td>9337</td>\n      <td>2013</td>\n    </tr>\n    <tr>\n      <td>3</td>\n      <td>Andorra</td>\n      <td>Europe</td>\n      <td>7.6</td>\n      <td>7.9</td>\n      <td>NaN</td>\n      <td>6</td>\n      <td>2013</td>\n    </tr>\n    <tr>\n      <td>4</td>\n      <td>Angola</td>\n      <td>Africa</td>\n      <td>26.9</td>\n      <td>992</td>\n      <td>NaN</td>\n      <td>5769</td>\n      <td>2013</td>\n    </tr>\n  </tbody>\n</table>\n</div>",
      "text/plain": "       Country Continent Road fatalitiesper 100,000inhabitantsper year[5][2]  \\\n0  Afghanistan      Asia                                               15.5    \n1      Albania    Europe                                               13.6    \n2      Algeria    Africa                                               23.8    \n3      Andorra    Europe                                                7.6    \n4       Angola    Africa                                               26.9    \n\n  Road fatalitiesper 100,000motor vehicles[5][2]  \\\n0                                          722.4   \n1                                          107.2   \n2                                          127.8   \n3                                            7.9   \n4                                            992   \n\n   Road fatalitiesper 1 billionvehicle-km[6]  \\\n0                                        NaN   \n1                                        NaN   \n2                                        NaN   \n3                                        NaN   \n4                                        NaN   \n\n  Total fatalitieslatest year(adjusted/estimatedfigures by WHO report)[5][2]  \\\n0                                               4734                           \n1                                                399                           \n2                                               9337                           \n3                                                  6                           \n4                                               5769                           \n\n  Year, data source(standard source:The WHO report 2015,[3]data from 2013The WHO report 2018,[2]data from 2016)  \n0                                               2013                                                             \n1                                               2018                                                             \n2                                               2013                                                             \n3                                               2013                                                             \n4                                               2013                                                             "
     },
     "execution_count": 21,
     "metadata": {},
     "output_type": "execute_result"
    }
   ],
   "source": [
    "url = \"https://en.wikipedia.org/wiki/List_of_countries_by_traffic-related_death_rate\"\n",
    "\n",
    "traffic_deaths = pd.read_html(url, skiprows=range(1,8))[1]\n",
    "traffic_deaths.head()"
   ]
  },
  {
   "cell_type": "code",
   "execution_count": null,
   "metadata": {},
   "outputs": [],
   "source": []
  }
 ]
}