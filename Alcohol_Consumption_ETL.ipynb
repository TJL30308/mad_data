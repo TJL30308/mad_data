{
 "cells": [
  {
   "cell_type": "code",
   "execution_count": 2,
   "metadata": {},
   "outputs": [],
   "source": [
    "import pandas as pd\n",
    "from sqlalchemy import create_engine"
   ]
  },
  {
   "cell_type": "code",
   "execution_count": 9,
   "metadata": {},
   "outputs": [
    {
     "data": {
      "text/html": [
       "<div>\n",
       "<style scoped>\n",
       "    .dataframe tbody tr th:only-of-type {\n",
       "        vertical-align: middle;\n",
       "    }\n",
       "\n",
       "    .dataframe tbody tr th {\n",
       "        vertical-align: top;\n",
       "    }\n",
       "\n",
       "    .dataframe thead th {\n",
       "        text-align: right;\n",
       "    }\n",
       "</style>\n",
       "<table border=\"1\" class=\"dataframe\">\n",
       "  <thead>\n",
       "    <tr style=\"text-align: right;\">\n",
       "      <th></th>\n",
       "      <th>Country</th>\n",
       "      <th>Year</th>\n",
       "      <th>Both sexes</th>\n",
       "      <th>Male</th>\n",
       "      <th>Female</th>\n",
       "    </tr>\n",
       "  </thead>\n",
       "  <tbody>\n",
       "    <tr>\n",
       "      <th>0</th>\n",
       "      <td>Afghanistan</td>\n",
       "      <td>2016</td>\n",
       "      <td>0.2 [0.2-0.2]</td>\n",
       "      <td>0.4 [0.4-0.4]</td>\n",
       "      <td>0 [0-0]</td>\n",
       "    </tr>\n",
       "    <tr>\n",
       "      <th>1</th>\n",
       "      <td>Afghanistan</td>\n",
       "      <td>2010</td>\n",
       "      <td>0.2 [0.2-0.3]</td>\n",
       "      <td>0.4 [0.4-0.5]</td>\n",
       "      <td>0 [0-0]</td>\n",
       "    </tr>\n",
       "    <tr>\n",
       "      <th>2</th>\n",
       "      <td>Albania</td>\n",
       "      <td>2016</td>\n",
       "      <td>7.5 [7.1-7.8]</td>\n",
       "      <td>12.5 [12-13.1]</td>\n",
       "      <td>2.6 [2.5-2.7]</td>\n",
       "    </tr>\n",
       "    <tr>\n",
       "      <th>3</th>\n",
       "      <td>Albania</td>\n",
       "      <td>2010</td>\n",
       "      <td>7.9 [7.6-8.2]</td>\n",
       "      <td>13 [12.4-13.5]</td>\n",
       "      <td>2.8 [2.7-3]</td>\n",
       "    </tr>\n",
       "    <tr>\n",
       "      <th>4</th>\n",
       "      <td>Algeria</td>\n",
       "      <td>2016</td>\n",
       "      <td>0.9 [0.9-1]</td>\n",
       "      <td>1.7 [1.6-1.7]</td>\n",
       "      <td>0.2 [0.2-0.2]</td>\n",
       "    </tr>\n",
       "  </tbody>\n",
       "</table>\n",
       "</div>"
      ],
      "text/plain": [
       "       Country  Year     Both sexes            Male         Female\n",
       "0  Afghanistan  2016  0.2 [0.2-0.2]   0.4 [0.4-0.4]        0 [0-0]\n",
       "1  Afghanistan  2010  0.2 [0.2-0.3]   0.4 [0.4-0.5]        0 [0-0]\n",
       "2      Albania  2016  7.5 [7.1-7.8]  12.5 [12-13.1]  2.6 [2.5-2.7]\n",
       "3      Albania  2010  7.9 [7.6-8.2]  13 [12.4-13.5]    2.8 [2.7-3]\n",
       "4      Algeria  2016    0.9 [0.9-1]   1.7 [1.6-1.7]  0.2 [0.2-0.2]"
      ]
     },
     "execution_count": 9,
     "metadata": {},
     "output_type": "execute_result"
    }
   ],
   "source": [
    "# Data Extraction\n",
    "alcohol_consumption_df = pd.read_csv('resources/alcohol_consumption.csv', skiprows=1)\n",
    "alcohol_consumption_df.head()"
   ]
  },
  {
   "cell_type": "code",
   "execution_count": 10,
   "metadata": {},
   "outputs": [],
   "source": [
    "# Data Transformation"
   ]
  },
  {
   "cell_type": "code",
   "execution_count": null,
   "metadata": {},
   "outputs": [],
   "source": [
    "# Data Load\n",
    "# rds_connection_string = \"<username>:<password>@localhost:5432/customer_db\"\n",
    "# engine = create_engine(f'postgresql://{rds_connection_string}')"
   ]
  }
 ],
 "metadata": {
  "kernelspec": {
   "display_name": "Python 3",
   "language": "python",
   "name": "python3"
  },
  "language_info": {
   "codemirror_mode": {
    "name": "ipython",
    "version": 3
   },
   "file_extension": ".py",
   "mimetype": "text/x-python",
   "name": "python",
   "nbconvert_exporter": "python",
   "pygments_lexer": "ipython3",
   "version": "3.8.0"
  }
 },
 "nbformat": 4,
 "nbformat_minor": 2
}
