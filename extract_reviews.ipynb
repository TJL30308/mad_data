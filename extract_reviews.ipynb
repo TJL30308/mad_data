{
 "nbformat": 4,
 "nbformat_minor": 2,
 "metadata": {
  "language_info": {
   "name": "python",
   "codemirror_mode": {
    "name": "ipython",
    "version": 3
   },
   "version": "3.7.4-final"
  },
  "orig_nbformat": 2,
  "file_extension": ".py",
  "mimetype": "text/x-python",
  "name": "python",
  "npconvert_exporter": "python",
  "pygments_lexer": "ipython3",
  "version": 3,
  "kernelspec": {
   "name": "python37464bitbaseconda7bc3910bbe4a4c1e89b80bb43883e8bc",
   "display_name": "Python 3.7.4 64-bit ('base': conda)"
  }
 },
 "cells": [
  {
   "cell_type": "code",
   "execution_count": 47,
   "metadata": {},
   "outputs": [],
   "source": [
    "# Dependencies\n",
    "import pandas as pd\n",
    "import pycountry"
   ]
  },
  {
   "cell_type": "markdown",
   "execution_count": null,
   "metadata": {},
   "outputs": [],
   "source": [
    "## Load CSV file"
   ]
  },
  {
   "cell_type": "code",
   "execution_count": 48,
   "metadata": {},
   "outputs": [
    {
     "data": {
      "text/html": "<div>\n<style scoped>\n    .dataframe tbody tr th:only-of-type {\n        vertical-align: middle;\n    }\n\n    .dataframe tbody tr th {\n        vertical-align: top;\n    }\n\n    .dataframe thead th {\n        text-align: right;\n    }\n</style>\n<table border=\"1\" class=\"dataframe\">\n  <thead>\n    <tr style=\"text-align: right;\">\n      <th></th>\n      <th>Unnamed: 0</th>\n      <th>country</th>\n      <th>description</th>\n      <th>designation</th>\n      <th>points</th>\n      <th>price</th>\n      <th>province</th>\n      <th>region_1</th>\n      <th>region_2</th>\n      <th>taster_name</th>\n      <th>taster_twitter_handle</th>\n      <th>title</th>\n      <th>variety</th>\n      <th>winery</th>\n    </tr>\n  </thead>\n  <tbody>\n    <tr>\n      <td>0</td>\n      <td>0</td>\n      <td>Italy</td>\n      <td>Aromas include tropical fruit, broom, brimston...</td>\n      <td>Vulkà Bianco</td>\n      <td>87</td>\n      <td>NaN</td>\n      <td>Sicily &amp; Sardinia</td>\n      <td>Etna</td>\n      <td>NaN</td>\n      <td>Kerin O’Keefe</td>\n      <td>@kerinokeefe</td>\n      <td>Nicosia 2013 Vulkà Bianco  (Etna)</td>\n      <td>White Blend</td>\n      <td>Nicosia</td>\n    </tr>\n    <tr>\n      <td>1</td>\n      <td>1</td>\n      <td>Portugal</td>\n      <td>This is ripe and fruity, a wine that is smooth...</td>\n      <td>Avidagos</td>\n      <td>87</td>\n      <td>15.0</td>\n      <td>Douro</td>\n      <td>NaN</td>\n      <td>NaN</td>\n      <td>Roger Voss</td>\n      <td>@vossroger</td>\n      <td>Quinta dos Avidagos 2011 Avidagos Red (Douro)</td>\n      <td>Portuguese Red</td>\n      <td>Quinta dos Avidagos</td>\n    </tr>\n    <tr>\n      <td>2</td>\n      <td>2</td>\n      <td>US</td>\n      <td>Tart and snappy, the flavors of lime flesh and...</td>\n      <td>NaN</td>\n      <td>87</td>\n      <td>14.0</td>\n      <td>Oregon</td>\n      <td>Willamette Valley</td>\n      <td>Willamette Valley</td>\n      <td>Paul Gregutt</td>\n      <td>@paulgwine</td>\n      <td>Rainstorm 2013 Pinot Gris (Willamette Valley)</td>\n      <td>Pinot Gris</td>\n      <td>Rainstorm</td>\n    </tr>\n    <tr>\n      <td>3</td>\n      <td>3</td>\n      <td>US</td>\n      <td>Pineapple rind, lemon pith and orange blossom ...</td>\n      <td>Reserve Late Harvest</td>\n      <td>87</td>\n      <td>13.0</td>\n      <td>Michigan</td>\n      <td>Lake Michigan Shore</td>\n      <td>NaN</td>\n      <td>Alexander Peartree</td>\n      <td>NaN</td>\n      <td>St. Julian 2013 Reserve Late Harvest Riesling ...</td>\n      <td>Riesling</td>\n      <td>St. Julian</td>\n    </tr>\n    <tr>\n      <td>4</td>\n      <td>4</td>\n      <td>US</td>\n      <td>Much like the regular bottling from 2012, this...</td>\n      <td>Vintner's Reserve Wild Child Block</td>\n      <td>87</td>\n      <td>65.0</td>\n      <td>Oregon</td>\n      <td>Willamette Valley</td>\n      <td>Willamette Valley</td>\n      <td>Paul Gregutt</td>\n      <td>@paulgwine</td>\n      <td>Sweet Cheeks 2012 Vintner's Reserve Wild Child...</td>\n      <td>Pinot Noir</td>\n      <td>Sweet Cheeks</td>\n    </tr>\n  </tbody>\n</table>\n</div>",
      "text/plain": "   Unnamed: 0   country                                        description  \\\n0           0     Italy  Aromas include tropical fruit, broom, brimston...   \n1           1  Portugal  This is ripe and fruity, a wine that is smooth...   \n2           2        US  Tart and snappy, the flavors of lime flesh and...   \n3           3        US  Pineapple rind, lemon pith and orange blossom ...   \n4           4        US  Much like the regular bottling from 2012, this...   \n\n                          designation  points  price           province  \\\n0                        Vulkà Bianco      87    NaN  Sicily & Sardinia   \n1                            Avidagos      87   15.0              Douro   \n2                                 NaN      87   14.0             Oregon   \n3                Reserve Late Harvest      87   13.0           Michigan   \n4  Vintner's Reserve Wild Child Block      87   65.0             Oregon   \n\n              region_1           region_2         taster_name  \\\n0                 Etna                NaN       Kerin O’Keefe   \n1                  NaN                NaN          Roger Voss   \n2    Willamette Valley  Willamette Valley        Paul Gregutt   \n3  Lake Michigan Shore                NaN  Alexander Peartree   \n4    Willamette Valley  Willamette Valley        Paul Gregutt   \n\n  taster_twitter_handle                                              title  \\\n0          @kerinokeefe                  Nicosia 2013 Vulkà Bianco  (Etna)   \n1            @vossroger      Quinta dos Avidagos 2011 Avidagos Red (Douro)   \n2           @paulgwine       Rainstorm 2013 Pinot Gris (Willamette Valley)   \n3                   NaN  St. Julian 2013 Reserve Late Harvest Riesling ...   \n4           @paulgwine   Sweet Cheeks 2012 Vintner's Reserve Wild Child...   \n\n          variety               winery  \n0     White Blend              Nicosia  \n1  Portuguese Red  Quinta dos Avidagos  \n2      Pinot Gris            Rainstorm  \n3        Riesling           St. Julian  \n4      Pinot Noir         Sweet Cheeks  "
     },
     "execution_count": 48,
     "metadata": {},
     "output_type": "execute_result"
    }
   ],
   "source": [
    "reviews = pd.read_csv(\"resources/winemag-data-130k-v2.csv\")\n",
    "reviews.head()"
   ]
  },
  {
   "cell_type": "code",
   "execution_count": 49,
   "metadata": {},
   "outputs": [
    {
     "data": {
      "text/plain": "country\nArgentina                 86.710263\nArmenia                   87.500000\nAustralia                 88.580507\nAustria                   90.101345\nBosnia and Herzegovina    86.500000\nBrazil                    84.673077\nBulgaria                  87.936170\nCanada                    89.369650\nChile                     86.493515\nChina                     89.000000\nCroatia                   87.219178\nCyprus                    87.181818\nCzech Republic            87.250000\nEgypt                     84.000000\nEngland                   91.581081\nFrance                    88.845109\nGeorgia                   87.686047\nGermany                   89.851732\nGreece                    87.283262\nHungary                   89.191781\nIndia                     90.222222\nIsrael                    88.471287\nItaly                     88.562231\nLebanon                   87.685714\nLuxembourg                88.666667\nMacedonia                 86.833333\nMexico                    85.257143\nMoldova                   87.203390\nMorocco                   88.571429\nNew Zealand               88.303030\nPeru                      83.562500\nPortugal                  88.250220\nRomania                   86.400000\nSerbia                    87.500000\nSlovakia                  87.000000\nSlovenia                  88.068966\nSouth Africa              88.056388\nSpain                     87.288337\nSwitzerland               88.571429\nTurkey                    88.088889\nUS                        88.563720\nUkraine                   84.071429\nUruguay                   86.752294\nName: mean, dtype: float64"
     },
     "execution_count": 49,
     "metadata": {},
     "output_type": "execute_result"
    }
   ],
   "source": [
    "mean =reviews.groupby('country')['points'].mean()\n",
    "mean.rename('mean', inplace=True)"
   ]
  },
  {
   "cell_type": "code",
   "execution_count": 50,
   "metadata": {},
   "outputs": [
    {
     "data": {
      "text/plain": "country\nArgentina                 87.0\nArmenia                   87.5\nAustralia                 89.0\nAustria                   90.0\nBosnia and Herzegovina    86.5\nBrazil                    85.0\nBulgaria                  89.0\nCanada                    90.0\nChile                     86.0\nChina                     89.0\nCroatia                   88.0\nCyprus                    87.0\nCzech Republic            88.0\nEgypt                     84.0\nEngland                   91.0\nFrance                    89.0\nGeorgia                   88.0\nGermany                   90.0\nGreece                    87.0\nHungary                   89.0\nIndia                     90.0\nIsrael                    89.0\nItaly                     88.0\nLebanon                   88.0\nLuxembourg                88.5\nMacedonia                 87.0\nMexico                    85.0\nMoldova                   88.0\nMorocco                   88.5\nNew Zealand               88.0\nPeru                      84.0\nPortugal                  88.0\nRomania                   86.0\nSerbia                    87.5\nSlovakia                  87.0\nSlovenia                  88.0\nSouth Africa              88.0\nSpain                     87.0\nSwitzerland               89.0\nTurkey                    88.0\nUS                        88.0\nUkraine                   84.0\nUruguay                   87.0\nName: median, dtype: float64"
     },
     "execution_count": 50,
     "metadata": {},
     "output_type": "execute_result"
    }
   ],
   "source": [
    "median = reviews.groupby('country')['points'].median()\n",
    "median.rename('median', inplace=True)"
   ]
  },
  {
   "cell_type": "code",
   "execution_count": 51,
   "metadata": {},
   "outputs": [
    {
     "data": {
      "text/plain": "country\nArgentina                  3800\nArmenia                       2\nAustralia                  2329\nAustria                    3345\nBosnia and Herzegovina        2\nBrazil                       52\nBulgaria                    141\nCanada                      257\nChile                      4472\nChina                         1\nCroatia                      73\nCyprus                       11\nCzech Republic               12\nEgypt                         1\nEngland                      74\nFrance                    22093\nGeorgia                      86\nGermany                    2165\nGreece                      466\nHungary                     146\nIndia                         9\nIsrael                      505\nItaly                     19540\nLebanon                      35\nLuxembourg                    6\nMacedonia                    12\nMexico                       70\nMoldova                      59\nMorocco                      28\nNew Zealand                1419\nPeru                         16\nPortugal                   5691\nRomania                     120\nSerbia                       12\nSlovakia                      1\nSlovenia                     87\nSouth Africa               1401\nSpain                      6645\nSwitzerland                   7\nTurkey                       90\nUS                        54504\nUkraine                      14\nUruguay                     109\nName: count, dtype: int64"
     },
     "execution_count": 51,
     "metadata": {},
     "output_type": "execute_result"
    }
   ],
   "source": [
    "count = reviews.groupby('country')['points'].count()\n",
    "count.rename('count', inplace=True)"
   ]
  },
  {
   "cell_type": "code",
   "execution_count": 52,
   "metadata": {},
   "outputs": [
    {
     "data": {
      "text/html": "<div>\n<style scoped>\n    .dataframe tbody tr th:only-of-type {\n        vertical-align: middle;\n    }\n\n    .dataframe tbody tr th {\n        vertical-align: top;\n    }\n\n    .dataframe thead th {\n        text-align: right;\n    }\n</style>\n<table border=\"1\" class=\"dataframe\">\n  <thead>\n    <tr style=\"text-align: right;\">\n      <th></th>\n      <th>mean</th>\n      <th>median</th>\n      <th>count</th>\n    </tr>\n    <tr>\n      <th>country</th>\n      <th></th>\n      <th></th>\n      <th></th>\n    </tr>\n  </thead>\n  <tbody>\n    <tr>\n      <td>Argentina</td>\n      <td>86.710263</td>\n      <td>87.0</td>\n      <td>3800.0</td>\n    </tr>\n    <tr>\n      <td>Armenia</td>\n      <td>87.500000</td>\n      <td>87.5</td>\n      <td>2.0</td>\n    </tr>\n    <tr>\n      <td>Australia</td>\n      <td>88.580507</td>\n      <td>89.0</td>\n      <td>2329.0</td>\n    </tr>\n    <tr>\n      <td>Austria</td>\n      <td>90.101345</td>\n      <td>90.0</td>\n      <td>3345.0</td>\n    </tr>\n    <tr>\n      <td>Bosnia and Herzegovina</td>\n      <td>86.500000</td>\n      <td>86.5</td>\n      <td>2.0</td>\n    </tr>\n    <tr>\n      <td>Brazil</td>\n      <td>84.673077</td>\n      <td>85.0</td>\n      <td>52.0</td>\n    </tr>\n    <tr>\n      <td>Bulgaria</td>\n      <td>87.936170</td>\n      <td>89.0</td>\n      <td>141.0</td>\n    </tr>\n    <tr>\n      <td>Canada</td>\n      <td>89.369650</td>\n      <td>90.0</td>\n      <td>257.0</td>\n    </tr>\n    <tr>\n      <td>Chile</td>\n      <td>86.493515</td>\n      <td>86.0</td>\n      <td>4472.0</td>\n    </tr>\n    <tr>\n      <td>China</td>\n      <td>89.000000</td>\n      <td>89.0</td>\n      <td>1.0</td>\n    </tr>\n    <tr>\n      <td>Croatia</td>\n      <td>87.219178</td>\n      <td>88.0</td>\n      <td>73.0</td>\n    </tr>\n    <tr>\n      <td>Cyprus</td>\n      <td>87.181818</td>\n      <td>87.0</td>\n      <td>11.0</td>\n    </tr>\n    <tr>\n      <td>Czech Republic</td>\n      <td>87.250000</td>\n      <td>88.0</td>\n      <td>12.0</td>\n    </tr>\n    <tr>\n      <td>Egypt</td>\n      <td>84.000000</td>\n      <td>84.0</td>\n      <td>1.0</td>\n    </tr>\n    <tr>\n      <td>England</td>\n      <td>91.581081</td>\n      <td>91.0</td>\n      <td>74.0</td>\n    </tr>\n    <tr>\n      <td>France</td>\n      <td>88.845109</td>\n      <td>89.0</td>\n      <td>22093.0</td>\n    </tr>\n    <tr>\n      <td>Georgia</td>\n      <td>87.686047</td>\n      <td>88.0</td>\n      <td>86.0</td>\n    </tr>\n    <tr>\n      <td>Germany</td>\n      <td>89.851732</td>\n      <td>90.0</td>\n      <td>2165.0</td>\n    </tr>\n    <tr>\n      <td>Greece</td>\n      <td>87.283262</td>\n      <td>87.0</td>\n      <td>466.0</td>\n    </tr>\n    <tr>\n      <td>Hungary</td>\n      <td>89.191781</td>\n      <td>89.0</td>\n      <td>146.0</td>\n    </tr>\n    <tr>\n      <td>India</td>\n      <td>90.222222</td>\n      <td>90.0</td>\n      <td>9.0</td>\n    </tr>\n    <tr>\n      <td>Israel</td>\n      <td>88.471287</td>\n      <td>89.0</td>\n      <td>505.0</td>\n    </tr>\n    <tr>\n      <td>Italy</td>\n      <td>88.562231</td>\n      <td>88.0</td>\n      <td>19540.0</td>\n    </tr>\n    <tr>\n      <td>Lebanon</td>\n      <td>87.685714</td>\n      <td>88.0</td>\n      <td>35.0</td>\n    </tr>\n    <tr>\n      <td>Luxembourg</td>\n      <td>88.666667</td>\n      <td>88.5</td>\n      <td>6.0</td>\n    </tr>\n    <tr>\n      <td>Macedonia</td>\n      <td>86.833333</td>\n      <td>87.0</td>\n      <td>12.0</td>\n    </tr>\n    <tr>\n      <td>Mexico</td>\n      <td>85.257143</td>\n      <td>85.0</td>\n      <td>70.0</td>\n    </tr>\n    <tr>\n      <td>Moldova</td>\n      <td>87.203390</td>\n      <td>88.0</td>\n      <td>59.0</td>\n    </tr>\n    <tr>\n      <td>Morocco</td>\n      <td>88.571429</td>\n      <td>88.5</td>\n      <td>28.0</td>\n    </tr>\n    <tr>\n      <td>New Zealand</td>\n      <td>88.303030</td>\n      <td>88.0</td>\n      <td>1419.0</td>\n    </tr>\n    <tr>\n      <td>Peru</td>\n      <td>83.562500</td>\n      <td>84.0</td>\n      <td>16.0</td>\n    </tr>\n    <tr>\n      <td>Portugal</td>\n      <td>88.250220</td>\n      <td>88.0</td>\n      <td>5691.0</td>\n    </tr>\n    <tr>\n      <td>Romania</td>\n      <td>86.400000</td>\n      <td>86.0</td>\n      <td>120.0</td>\n    </tr>\n    <tr>\n      <td>Serbia</td>\n      <td>87.500000</td>\n      <td>87.5</td>\n      <td>12.0</td>\n    </tr>\n    <tr>\n      <td>Slovakia</td>\n      <td>87.000000</td>\n      <td>87.0</td>\n      <td>1.0</td>\n    </tr>\n    <tr>\n      <td>Slovenia</td>\n      <td>88.068966</td>\n      <td>88.0</td>\n      <td>87.0</td>\n    </tr>\n    <tr>\n      <td>South Africa</td>\n      <td>88.056388</td>\n      <td>88.0</td>\n      <td>1401.0</td>\n    </tr>\n    <tr>\n      <td>Spain</td>\n      <td>87.288337</td>\n      <td>87.0</td>\n      <td>6645.0</td>\n    </tr>\n    <tr>\n      <td>Switzerland</td>\n      <td>88.571429</td>\n      <td>89.0</td>\n      <td>7.0</td>\n    </tr>\n    <tr>\n      <td>Turkey</td>\n      <td>88.088889</td>\n      <td>88.0</td>\n      <td>90.0</td>\n    </tr>\n    <tr>\n      <td>US</td>\n      <td>88.563720</td>\n      <td>88.0</td>\n      <td>54504.0</td>\n    </tr>\n    <tr>\n      <td>Ukraine</td>\n      <td>84.071429</td>\n      <td>84.0</td>\n      <td>14.0</td>\n    </tr>\n    <tr>\n      <td>Uruguay</td>\n      <td>86.752294</td>\n      <td>87.0</td>\n      <td>109.0</td>\n    </tr>\n  </tbody>\n</table>\n</div>",
      "text/plain": "                             mean  median    count\ncountry                                           \nArgentina               86.710263    87.0   3800.0\nArmenia                 87.500000    87.5      2.0\nAustralia               88.580507    89.0   2329.0\nAustria                 90.101345    90.0   3345.0\nBosnia and Herzegovina  86.500000    86.5      2.0\nBrazil                  84.673077    85.0     52.0\nBulgaria                87.936170    89.0    141.0\nCanada                  89.369650    90.0    257.0\nChile                   86.493515    86.0   4472.0\nChina                   89.000000    89.0      1.0\nCroatia                 87.219178    88.0     73.0\nCyprus                  87.181818    87.0     11.0\nCzech Republic          87.250000    88.0     12.0\nEgypt                   84.000000    84.0      1.0\nEngland                 91.581081    91.0     74.0\nFrance                  88.845109    89.0  22093.0\nGeorgia                 87.686047    88.0     86.0\nGermany                 89.851732    90.0   2165.0\nGreece                  87.283262    87.0    466.0\nHungary                 89.191781    89.0    146.0\nIndia                   90.222222    90.0      9.0\nIsrael                  88.471287    89.0    505.0\nItaly                   88.562231    88.0  19540.0\nLebanon                 87.685714    88.0     35.0\nLuxembourg              88.666667    88.5      6.0\nMacedonia               86.833333    87.0     12.0\nMexico                  85.257143    85.0     70.0\nMoldova                 87.203390    88.0     59.0\nMorocco                 88.571429    88.5     28.0\nNew Zealand             88.303030    88.0   1419.0\nPeru                    83.562500    84.0     16.0\nPortugal                88.250220    88.0   5691.0\nRomania                 86.400000    86.0    120.0\nSerbia                  87.500000    87.5     12.0\nSlovakia                87.000000    87.0      1.0\nSlovenia                88.068966    88.0     87.0\nSouth Africa            88.056388    88.0   1401.0\nSpain                   87.288337    87.0   6645.0\nSwitzerland             88.571429    89.0      7.0\nTurkey                  88.088889    88.0     90.0\nUS                      88.563720    88.0  54504.0\nUkraine                 84.071429    84.0     14.0\nUruguay                 86.752294    87.0    109.0"
     },
     "execution_count": 52,
     "metadata": {},
     "output_type": "execute_result"
    }
   ],
   "source": [
    "reviews_stats = pd.DataFrame([mean, median, count]).T\n",
    "reviews_stats"
   ]
  },
  {
   "cell_type": "code",
   "execution_count": 53,
   "metadata": {},
   "outputs": [
    {
     "name": "stdout",
     "output_type": "stream",
     "text": "ERROR: Czech Republic\nERROR: England\nERROR: Macedonia\nERROR: Moldova\nERROR: US\n"
    }
   ],
   "source": [
    "# Create lists for country name and codes\n",
    "name_list = []\n",
    "country_codes = []\n",
    "for country in pycountry.countries:\n",
    "    name_list.append(country.name)\n",
    "    country_codes.append(country.numeric)\n",
    "\n",
    "# Return mismatching index from DF\n",
    "for row, value in reviews_stats.iterrows():\n",
    "    if row not in name_list:\n",
    "        print(\"ERROR: \" + row)"
   ]
  },
  {
   "cell_type": "code",
   "execution_count": 54,
   "metadata": {},
   "outputs": [
    {
     "data": {
      "text/html": "<div>\n<style scoped>\n    .dataframe tbody tr th:only-of-type {\n        vertical-align: middle;\n    }\n\n    .dataframe tbody tr th {\n        vertical-align: top;\n    }\n\n    .dataframe thead th {\n        text-align: right;\n    }\n</style>\n<table border=\"1\" class=\"dataframe\">\n  <thead>\n    <tr style=\"text-align: right;\">\n      <th></th>\n      <th>mean</th>\n      <th>median</th>\n      <th>count</th>\n    </tr>\n    <tr>\n      <th>country</th>\n      <th></th>\n      <th></th>\n      <th></th>\n    </tr>\n  </thead>\n  <tbody>\n    <tr>\n      <td>Argentina</td>\n      <td>86.710263</td>\n      <td>87.0</td>\n      <td>3800.0</td>\n    </tr>\n    <tr>\n      <td>Armenia</td>\n      <td>87.500000</td>\n      <td>87.5</td>\n      <td>2.0</td>\n    </tr>\n    <tr>\n      <td>Australia</td>\n      <td>88.580507</td>\n      <td>89.0</td>\n      <td>2329.0</td>\n    </tr>\n    <tr>\n      <td>Austria</td>\n      <td>90.101345</td>\n      <td>90.0</td>\n      <td>3345.0</td>\n    </tr>\n    <tr>\n      <td>Bosnia and Herzegovina</td>\n      <td>86.500000</td>\n      <td>86.5</td>\n      <td>2.0</td>\n    </tr>\n    <tr>\n      <td>Brazil</td>\n      <td>84.673077</td>\n      <td>85.0</td>\n      <td>52.0</td>\n    </tr>\n    <tr>\n      <td>Bulgaria</td>\n      <td>87.936170</td>\n      <td>89.0</td>\n      <td>141.0</td>\n    </tr>\n    <tr>\n      <td>Canada</td>\n      <td>89.369650</td>\n      <td>90.0</td>\n      <td>257.0</td>\n    </tr>\n    <tr>\n      <td>Chile</td>\n      <td>86.493515</td>\n      <td>86.0</td>\n      <td>4472.0</td>\n    </tr>\n    <tr>\n      <td>China</td>\n      <td>89.000000</td>\n      <td>89.0</td>\n      <td>1.0</td>\n    </tr>\n    <tr>\n      <td>Croatia</td>\n      <td>87.219178</td>\n      <td>88.0</td>\n      <td>73.0</td>\n    </tr>\n    <tr>\n      <td>Cyprus</td>\n      <td>87.181818</td>\n      <td>87.0</td>\n      <td>11.0</td>\n    </tr>\n    <tr>\n      <td>Czechia</td>\n      <td>87.250000</td>\n      <td>88.0</td>\n      <td>12.0</td>\n    </tr>\n    <tr>\n      <td>Egypt</td>\n      <td>84.000000</td>\n      <td>84.0</td>\n      <td>1.0</td>\n    </tr>\n    <tr>\n      <td>United Kingdom</td>\n      <td>91.581081</td>\n      <td>91.0</td>\n      <td>74.0</td>\n    </tr>\n    <tr>\n      <td>France</td>\n      <td>88.845109</td>\n      <td>89.0</td>\n      <td>22093.0</td>\n    </tr>\n    <tr>\n      <td>Georgia</td>\n      <td>87.686047</td>\n      <td>88.0</td>\n      <td>86.0</td>\n    </tr>\n    <tr>\n      <td>Germany</td>\n      <td>89.851732</td>\n      <td>90.0</td>\n      <td>2165.0</td>\n    </tr>\n    <tr>\n      <td>Greece</td>\n      <td>87.283262</td>\n      <td>87.0</td>\n      <td>466.0</td>\n    </tr>\n    <tr>\n      <td>Hungary</td>\n      <td>89.191781</td>\n      <td>89.0</td>\n      <td>146.0</td>\n    </tr>\n    <tr>\n      <td>India</td>\n      <td>90.222222</td>\n      <td>90.0</td>\n      <td>9.0</td>\n    </tr>\n    <tr>\n      <td>Israel</td>\n      <td>88.471287</td>\n      <td>89.0</td>\n      <td>505.0</td>\n    </tr>\n    <tr>\n      <td>Italy</td>\n      <td>88.562231</td>\n      <td>88.0</td>\n      <td>19540.0</td>\n    </tr>\n    <tr>\n      <td>Lebanon</td>\n      <td>87.685714</td>\n      <td>88.0</td>\n      <td>35.0</td>\n    </tr>\n    <tr>\n      <td>Luxembourg</td>\n      <td>88.666667</td>\n      <td>88.5</td>\n      <td>6.0</td>\n    </tr>\n    <tr>\n      <td>North Macedonia</td>\n      <td>86.833333</td>\n      <td>87.0</td>\n      <td>12.0</td>\n    </tr>\n    <tr>\n      <td>Mexico</td>\n      <td>85.257143</td>\n      <td>85.0</td>\n      <td>70.0</td>\n    </tr>\n    <tr>\n      <td>Moldova, Republic of</td>\n      <td>87.203390</td>\n      <td>88.0</td>\n      <td>59.0</td>\n    </tr>\n    <tr>\n      <td>Morocco</td>\n      <td>88.571429</td>\n      <td>88.5</td>\n      <td>28.0</td>\n    </tr>\n    <tr>\n      <td>New Zealand</td>\n      <td>88.303030</td>\n      <td>88.0</td>\n      <td>1419.0</td>\n    </tr>\n    <tr>\n      <td>Peru</td>\n      <td>83.562500</td>\n      <td>84.0</td>\n      <td>16.0</td>\n    </tr>\n    <tr>\n      <td>Portugal</td>\n      <td>88.250220</td>\n      <td>88.0</td>\n      <td>5691.0</td>\n    </tr>\n    <tr>\n      <td>Romania</td>\n      <td>86.400000</td>\n      <td>86.0</td>\n      <td>120.0</td>\n    </tr>\n    <tr>\n      <td>Serbia</td>\n      <td>87.500000</td>\n      <td>87.5</td>\n      <td>12.0</td>\n    </tr>\n    <tr>\n      <td>Slovakia</td>\n      <td>87.000000</td>\n      <td>87.0</td>\n      <td>1.0</td>\n    </tr>\n    <tr>\n      <td>Slovenia</td>\n      <td>88.068966</td>\n      <td>88.0</td>\n      <td>87.0</td>\n    </tr>\n    <tr>\n      <td>South Africa</td>\n      <td>88.056388</td>\n      <td>88.0</td>\n      <td>1401.0</td>\n    </tr>\n    <tr>\n      <td>Spain</td>\n      <td>87.288337</td>\n      <td>87.0</td>\n      <td>6645.0</td>\n    </tr>\n    <tr>\n      <td>Switzerland</td>\n      <td>88.571429</td>\n      <td>89.0</td>\n      <td>7.0</td>\n    </tr>\n    <tr>\n      <td>Turkey</td>\n      <td>88.088889</td>\n      <td>88.0</td>\n      <td>90.0</td>\n    </tr>\n    <tr>\n      <td>United States</td>\n      <td>88.563720</td>\n      <td>88.0</td>\n      <td>54504.0</td>\n    </tr>\n    <tr>\n      <td>Ukraine</td>\n      <td>84.071429</td>\n      <td>84.0</td>\n      <td>14.0</td>\n    </tr>\n    <tr>\n      <td>Uruguay</td>\n      <td>86.752294</td>\n      <td>87.0</td>\n      <td>109.0</td>\n    </tr>\n  </tbody>\n</table>\n</div>",
      "text/plain": "                             mean  median    count\ncountry                                           \nArgentina               86.710263    87.0   3800.0\nArmenia                 87.500000    87.5      2.0\nAustralia               88.580507    89.0   2329.0\nAustria                 90.101345    90.0   3345.0\nBosnia and Herzegovina  86.500000    86.5      2.0\nBrazil                  84.673077    85.0     52.0\nBulgaria                87.936170    89.0    141.0\nCanada                  89.369650    90.0    257.0\nChile                   86.493515    86.0   4472.0\nChina                   89.000000    89.0      1.0\nCroatia                 87.219178    88.0     73.0\nCyprus                  87.181818    87.0     11.0\nCzechia                 87.250000    88.0     12.0\nEgypt                   84.000000    84.0      1.0\nUnited Kingdom          91.581081    91.0     74.0\nFrance                  88.845109    89.0  22093.0\nGeorgia                 87.686047    88.0     86.0\nGermany                 89.851732    90.0   2165.0\nGreece                  87.283262    87.0    466.0\nHungary                 89.191781    89.0    146.0\nIndia                   90.222222    90.0      9.0\nIsrael                  88.471287    89.0    505.0\nItaly                   88.562231    88.0  19540.0\nLebanon                 87.685714    88.0     35.0\nLuxembourg              88.666667    88.5      6.0\nNorth Macedonia         86.833333    87.0     12.0\nMexico                  85.257143    85.0     70.0\nMoldova, Republic of    87.203390    88.0     59.0\nMorocco                 88.571429    88.5     28.0\nNew Zealand             88.303030    88.0   1419.0\nPeru                    83.562500    84.0     16.0\nPortugal                88.250220    88.0   5691.0\nRomania                 86.400000    86.0    120.0\nSerbia                  87.500000    87.5     12.0\nSlovakia                87.000000    87.0      1.0\nSlovenia                88.068966    88.0     87.0\nSouth Africa            88.056388    88.0   1401.0\nSpain                   87.288337    87.0   6645.0\nSwitzerland             88.571429    89.0      7.0\nTurkey                  88.088889    88.0     90.0\nUnited States           88.563720    88.0  54504.0\nUkraine                 84.071429    84.0     14.0\nUruguay                 86.752294    87.0    109.0"
     },
     "execution_count": 54,
     "metadata": {},
     "output_type": "execute_result"
    }
   ],
   "source": [
    "# Rename values\n",
    "reviews_stats.rename(index={\n",
    "    \"Czech Republic\": \"Czechia\",\n",
    "    \"England\": \"United Kingdom\",\n",
    "    \"Macedonia\": \"North Macedonia\",\n",
    "    \"Moldova\": \"Moldova, Republic of\",\n",
    "    \"US\": \"United States\"\n",
    "}, inplace=True)\n",
    "\n",
    "reviews_stats"
   ]
  },
  {
   "cell_type": "code",
   "execution_count": 55,
   "metadata": {},
   "outputs": [],
   "source": [
    "# Create dict for countries\n",
    "country_dict = dict(zip(name_list, country_codes))"
   ]
  },
  {
   "cell_type": "code",
   "execution_count": 56,
   "metadata": {},
   "outputs": [],
   "source": [
    "# Create column to add to DF\n",
    "new_col=[]\n",
    "\n",
    "# Loop through indexes and get country_id\n",
    "for row, value in reviews_stats.iterrows():\n",
    "    if row in country_dict:\n",
    "        new_col.append(country_dict[row])\n",
    "\n",
    "reviews_stats['country_id'] = new_col\n",
    "reviews_stats.reset_index(inplace=True)"
   ]
  },
  {
   "cell_type": "code",
   "execution_count": 57,
   "metadata": {},
   "outputs": [
    {
     "data": {
      "text/html": "<div>\n<style scoped>\n    .dataframe tbody tr th:only-of-type {\n        vertical-align: middle;\n    }\n\n    .dataframe tbody tr th {\n        vertical-align: top;\n    }\n\n    .dataframe thead th {\n        text-align: right;\n    }\n</style>\n<table border=\"1\" class=\"dataframe\">\n  <thead>\n    <tr style=\"text-align: right;\">\n      <th></th>\n      <th>country_name</th>\n      <th>mean</th>\n      <th>median</th>\n      <th>count</th>\n    </tr>\n    <tr>\n      <th>country_id</th>\n      <th></th>\n      <th></th>\n      <th></th>\n      <th></th>\n    </tr>\n  </thead>\n  <tbody>\n    <tr>\n      <td>032</td>\n      <td>Argentina</td>\n      <td>86.710263</td>\n      <td>87.0</td>\n      <td>3800.0</td>\n    </tr>\n    <tr>\n      <td>051</td>\n      <td>Armenia</td>\n      <td>87.500000</td>\n      <td>87.5</td>\n      <td>2.0</td>\n    </tr>\n    <tr>\n      <td>036</td>\n      <td>Australia</td>\n      <td>88.580507</td>\n      <td>89.0</td>\n      <td>2329.0</td>\n    </tr>\n    <tr>\n      <td>040</td>\n      <td>Austria</td>\n      <td>90.101345</td>\n      <td>90.0</td>\n      <td>3345.0</td>\n    </tr>\n    <tr>\n      <td>070</td>\n      <td>Bosnia and Herzegovina</td>\n      <td>86.500000</td>\n      <td>86.5</td>\n      <td>2.0</td>\n    </tr>\n    <tr>\n      <td>076</td>\n      <td>Brazil</td>\n      <td>84.673077</td>\n      <td>85.0</td>\n      <td>52.0</td>\n    </tr>\n    <tr>\n      <td>100</td>\n      <td>Bulgaria</td>\n      <td>87.936170</td>\n      <td>89.0</td>\n      <td>141.0</td>\n    </tr>\n    <tr>\n      <td>124</td>\n      <td>Canada</td>\n      <td>89.369650</td>\n      <td>90.0</td>\n      <td>257.0</td>\n    </tr>\n    <tr>\n      <td>152</td>\n      <td>Chile</td>\n      <td>86.493515</td>\n      <td>86.0</td>\n      <td>4472.0</td>\n    </tr>\n    <tr>\n      <td>156</td>\n      <td>China</td>\n      <td>89.000000</td>\n      <td>89.0</td>\n      <td>1.0</td>\n    </tr>\n    <tr>\n      <td>191</td>\n      <td>Croatia</td>\n      <td>87.219178</td>\n      <td>88.0</td>\n      <td>73.0</td>\n    </tr>\n    <tr>\n      <td>196</td>\n      <td>Cyprus</td>\n      <td>87.181818</td>\n      <td>87.0</td>\n      <td>11.0</td>\n    </tr>\n    <tr>\n      <td>203</td>\n      <td>Czechia</td>\n      <td>87.250000</td>\n      <td>88.0</td>\n      <td>12.0</td>\n    </tr>\n    <tr>\n      <td>818</td>\n      <td>Egypt</td>\n      <td>84.000000</td>\n      <td>84.0</td>\n      <td>1.0</td>\n    </tr>\n    <tr>\n      <td>826</td>\n      <td>United Kingdom</td>\n      <td>91.581081</td>\n      <td>91.0</td>\n      <td>74.0</td>\n    </tr>\n    <tr>\n      <td>250</td>\n      <td>France</td>\n      <td>88.845109</td>\n      <td>89.0</td>\n      <td>22093.0</td>\n    </tr>\n    <tr>\n      <td>268</td>\n      <td>Georgia</td>\n      <td>87.686047</td>\n      <td>88.0</td>\n      <td>86.0</td>\n    </tr>\n    <tr>\n      <td>276</td>\n      <td>Germany</td>\n      <td>89.851732</td>\n      <td>90.0</td>\n      <td>2165.0</td>\n    </tr>\n    <tr>\n      <td>300</td>\n      <td>Greece</td>\n      <td>87.283262</td>\n      <td>87.0</td>\n      <td>466.0</td>\n    </tr>\n    <tr>\n      <td>348</td>\n      <td>Hungary</td>\n      <td>89.191781</td>\n      <td>89.0</td>\n      <td>146.0</td>\n    </tr>\n    <tr>\n      <td>356</td>\n      <td>India</td>\n      <td>90.222222</td>\n      <td>90.0</td>\n      <td>9.0</td>\n    </tr>\n    <tr>\n      <td>376</td>\n      <td>Israel</td>\n      <td>88.471287</td>\n      <td>89.0</td>\n      <td>505.0</td>\n    </tr>\n    <tr>\n      <td>380</td>\n      <td>Italy</td>\n      <td>88.562231</td>\n      <td>88.0</td>\n      <td>19540.0</td>\n    </tr>\n    <tr>\n      <td>422</td>\n      <td>Lebanon</td>\n      <td>87.685714</td>\n      <td>88.0</td>\n      <td>35.0</td>\n    </tr>\n    <tr>\n      <td>442</td>\n      <td>Luxembourg</td>\n      <td>88.666667</td>\n      <td>88.5</td>\n      <td>6.0</td>\n    </tr>\n    <tr>\n      <td>807</td>\n      <td>North Macedonia</td>\n      <td>86.833333</td>\n      <td>87.0</td>\n      <td>12.0</td>\n    </tr>\n    <tr>\n      <td>484</td>\n      <td>Mexico</td>\n      <td>85.257143</td>\n      <td>85.0</td>\n      <td>70.0</td>\n    </tr>\n    <tr>\n      <td>498</td>\n      <td>Moldova, Republic of</td>\n      <td>87.203390</td>\n      <td>88.0</td>\n      <td>59.0</td>\n    </tr>\n    <tr>\n      <td>504</td>\n      <td>Morocco</td>\n      <td>88.571429</td>\n      <td>88.5</td>\n      <td>28.0</td>\n    </tr>\n    <tr>\n      <td>554</td>\n      <td>New Zealand</td>\n      <td>88.303030</td>\n      <td>88.0</td>\n      <td>1419.0</td>\n    </tr>\n    <tr>\n      <td>604</td>\n      <td>Peru</td>\n      <td>83.562500</td>\n      <td>84.0</td>\n      <td>16.0</td>\n    </tr>\n    <tr>\n      <td>620</td>\n      <td>Portugal</td>\n      <td>88.250220</td>\n      <td>88.0</td>\n      <td>5691.0</td>\n    </tr>\n    <tr>\n      <td>642</td>\n      <td>Romania</td>\n      <td>86.400000</td>\n      <td>86.0</td>\n      <td>120.0</td>\n    </tr>\n    <tr>\n      <td>688</td>\n      <td>Serbia</td>\n      <td>87.500000</td>\n      <td>87.5</td>\n      <td>12.0</td>\n    </tr>\n    <tr>\n      <td>703</td>\n      <td>Slovakia</td>\n      <td>87.000000</td>\n      <td>87.0</td>\n      <td>1.0</td>\n    </tr>\n    <tr>\n      <td>705</td>\n      <td>Slovenia</td>\n      <td>88.068966</td>\n      <td>88.0</td>\n      <td>87.0</td>\n    </tr>\n    <tr>\n      <td>710</td>\n      <td>South Africa</td>\n      <td>88.056388</td>\n      <td>88.0</td>\n      <td>1401.0</td>\n    </tr>\n    <tr>\n      <td>724</td>\n      <td>Spain</td>\n      <td>87.288337</td>\n      <td>87.0</td>\n      <td>6645.0</td>\n    </tr>\n    <tr>\n      <td>756</td>\n      <td>Switzerland</td>\n      <td>88.571429</td>\n      <td>89.0</td>\n      <td>7.0</td>\n    </tr>\n    <tr>\n      <td>792</td>\n      <td>Turkey</td>\n      <td>88.088889</td>\n      <td>88.0</td>\n      <td>90.0</td>\n    </tr>\n    <tr>\n      <td>840</td>\n      <td>United States</td>\n      <td>88.563720</td>\n      <td>88.0</td>\n      <td>54504.0</td>\n    </tr>\n    <tr>\n      <td>804</td>\n      <td>Ukraine</td>\n      <td>84.071429</td>\n      <td>84.0</td>\n      <td>14.0</td>\n    </tr>\n    <tr>\n      <td>858</td>\n      <td>Uruguay</td>\n      <td>86.752294</td>\n      <td>87.0</td>\n      <td>109.0</td>\n    </tr>\n  </tbody>\n</table>\n</div>",
      "text/plain": "                      country_name       mean  median    count\ncountry_id                                                    \n032                      Argentina  86.710263    87.0   3800.0\n051                        Armenia  87.500000    87.5      2.0\n036                      Australia  88.580507    89.0   2329.0\n040                        Austria  90.101345    90.0   3345.0\n070         Bosnia and Herzegovina  86.500000    86.5      2.0\n076                         Brazil  84.673077    85.0     52.0\n100                       Bulgaria  87.936170    89.0    141.0\n124                         Canada  89.369650    90.0    257.0\n152                          Chile  86.493515    86.0   4472.0\n156                          China  89.000000    89.0      1.0\n191                        Croatia  87.219178    88.0     73.0\n196                         Cyprus  87.181818    87.0     11.0\n203                        Czechia  87.250000    88.0     12.0\n818                          Egypt  84.000000    84.0      1.0\n826                 United Kingdom  91.581081    91.0     74.0\n250                         France  88.845109    89.0  22093.0\n268                        Georgia  87.686047    88.0     86.0\n276                        Germany  89.851732    90.0   2165.0\n300                         Greece  87.283262    87.0    466.0\n348                        Hungary  89.191781    89.0    146.0\n356                          India  90.222222    90.0      9.0\n376                         Israel  88.471287    89.0    505.0\n380                          Italy  88.562231    88.0  19540.0\n422                        Lebanon  87.685714    88.0     35.0\n442                     Luxembourg  88.666667    88.5      6.0\n807                North Macedonia  86.833333    87.0     12.0\n484                         Mexico  85.257143    85.0     70.0\n498           Moldova, Republic of  87.203390    88.0     59.0\n504                        Morocco  88.571429    88.5     28.0\n554                    New Zealand  88.303030    88.0   1419.0\n604                           Peru  83.562500    84.0     16.0\n620                       Portugal  88.250220    88.0   5691.0\n642                        Romania  86.400000    86.0    120.0\n688                         Serbia  87.500000    87.5     12.0\n703                       Slovakia  87.000000    87.0      1.0\n705                       Slovenia  88.068966    88.0     87.0\n710                   South Africa  88.056388    88.0   1401.0\n724                          Spain  87.288337    87.0   6645.0\n756                    Switzerland  88.571429    89.0      7.0\n792                         Turkey  88.088889    88.0     90.0\n840                  United States  88.563720    88.0  54504.0\n804                        Ukraine  84.071429    84.0     14.0\n858                        Uruguay  86.752294    87.0    109.0"
     },
     "execution_count": 57,
     "metadata": {},
     "output_type": "execute_result"
    }
   ],
   "source": [
    "reviews_stats.set_index('country_id', inplace=True)\n",
    "reviews_stats.rename(columns={'country': 'country_name'})"
   ]
  },
  {
   "cell_type": "code",
   "execution_count": null,
   "metadata": {},
   "outputs": [],
   "source": []
  }
 ]
}